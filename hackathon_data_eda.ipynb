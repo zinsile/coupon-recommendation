{
  "cells": [
    {
      "cell_type": "code",
      "execution_count": null,
      "metadata": {
        "colab": {
          "base_uri": "https://localhost:8080/"
        },
        "id": "rCDMHYyJCN1g",
        "outputId": "265cd06a-7825-4a12-e0a4-2af6012c3ff4"
      },
      "outputs": [
        {
          "output_type": "stream",
          "name": "stdout",
          "text": [
            "Mounted at /content/drive\n"
          ]
        }
      ],
      "source": [
        "from google.colab import drive\n",
        "drive.mount('/content/drive')"
      ]
    },
    {
      "cell_type": "code",
      "execution_count": null,
      "metadata": {
        "id": "prm2R0DvC5_l"
      },
      "outputs": [],
      "source": [
        "import pandas as pd\n",
        "import numpy as np\n",
        "import matplotlib.pyplot as plt\n",
        "%matplotlib inline\n",
        "\n",
        "from sklearn.metrics import mean_squared_error\n",
        "from sklearn.metrics import mean_absolute_error\n",
        "from sklearn import ensemble\n",
        "from sklearn.model_selection import GridSearchCV\n",
        "from sklearn.ensemble import HistGradientBoostingRegressor\n",
        "from sklearn import preprocessing\n",
        "from sklearn.preprocessing import OrdinalEncoder"
      ]
    },
    {
      "cell_type": "code",
      "execution_count": null,
      "metadata": {
        "id": "Uhkn6eapBiEi"
      },
      "outputs": [],
      "source": [
        "socar_zone = pd.read_csv('/content/drive/MyDrive/Colab Notebooks/data/socar_zone_recommendation.csv')"
      ]
    },
    {
      "cell_type": "code",
      "source": [
        "# age_Categorizing\n",
        "conditionlist = [\n",
        "                 (socar_zone['member_age']<30),\n",
        "                 (socar_zone['member_age']>=30) & (socar_zone['member_age']<40),\n",
        "                 (socar_zone['member_age']>=40) & (socar_zone['member_age']<50),\n",
        "                 (socar_zone['member_age']>=50) & (socar_zone['member_age']<60),\n",
        "                 (socar_zone['member_age']>=60) & (socar_zone['member_age']<70),\n",
        "                 (socar_zone['member_age']>=70)\n",
        "                 ]\n",
        "choicelist = ['20', '30', '40', '50', '60', '70']\n",
        "socar_zone['age_category']=np.select(conditionlist, choicelist, default='Not specified')\n"
      ],
      "metadata": {
        "id": "UGNHlRCYu6HU"
      },
      "execution_count": null,
      "outputs": []
    },
    {
      "cell_type": "code",
      "source": [
        "# car_Categorizing\n",
        "conditionlist = [\n",
        "             (socar_zone['car_name']=='아반떼AD') | (socar_zone['car_name']=='올뉴K3') | (socar_zone['car_name']=='더뉴아반떼') | (socar_zone['car_name']=='Thule 자전거캐리어 X 더뉴아반떼') | (socar_zone['car_name']=='[쏘카세이브] 아반떼AD'),\n",
        "             (socar_zone['car_name']=='스포티지') | (socar_zone['car_name']=='투싼(경유)') | (socar_zone['car_name']=='쏘렌토') | (socar_zone['car_name']=='스포티지 더볼드') | (socar_zone['car_name']=='싼타페') | (socar_zone['car_name']=='아이오닉EV (제주)') | (socar_zone['car_name']=='재규어 E-Pace') | (socar_zone['car_name']=='[쏘카세이브] 투싼(경유)'),\n",
        "             (socar_zone['car_name']=='카니발 11인승') | (socar_zone['car_name']=='휠체어슬로프 X 카니발'),\n",
        "             (socar_zone['car_name']=='그랜저IG (LPG)') | (socar_zone['car_name']=='그랜저HG') | (socar_zone['car_name']=='그랜저HG (경유)') | (socar_zone['car_name']=='G8'),\n",
        "             (socar_zone['car_name']=='코나') | (socar_zone['car_name']=='티볼리(경유)') | (socar_zone['car_name']=='티볼리') | (socar_zone['car_name']=='지프 레니게이드') | (socar_zone['car_name']=='스토닉(경유)') | (socar_zone['car_name']=='스토닉') | (socar_zone['car_name']=='Thule 루프박스 X 티볼리') | (socar_zone['car_name']=='QM3') | (socar_zone['car_name']=='트랙스') | (socar_zone['car_name']=='[쏘카세이브] 티볼리(경유)'),\n",
        "             (socar_zone['car_name']=='클리오') | (socar_zone['car_name']=='프라이드') | (socar_zone['car_name']=='볼트EV (제주)') | (socar_zone['car_name']=='미니클럽맨') | (socar_zone['car_name']=='볼트EV') | (socar_zone['car_name']=='[쏘카세이브] 프라이드'),\n",
        "             (socar_zone['car_name']=='더뉴레이') | (socar_zone['car_name']=='넥스트스파크') | (socar_zone['car_name']=='올뉴모닝') | (socar_zone['car_name']=='레이') | (socar_zone['car_name']=='모닝') | (socar_zone['car_name']=='펫카시트 X 더뉴레이') | (socar_zone['car_name']=='특가 더뉴레이') | (socar_zone['car_name']=='[쏘카세이브] 레이') | (socar_zone['car_name']=='[쏘카세이브] 넥스트스파크'),\n",
        "             (socar_zone['car_name']=='말리부') | (socar_zone['car_name']=='SM6') | (socar_zone['car_name']=='쏘나타 뉴라이즈(LPG)') | (socar_zone['car_name']=='K5 (LPG)') | (socar_zone['car_name']=='스팅어') | (socar_zone['car_name']=='쏘나타 뉴라이즈') | (socar_zone['car_name']=='K5') | (socar_zone['car_name']=='2016 말리부') | (socar_zone['car_name']=='LF쏘나타') | (socar_zone['car_name']=='벤츠 C200') | (socar_zone['car_name']=='쏘나타DN8') | (socar_zone['car_name']=='[쏘카세이브] K5') | (socar_zone['car_name']=='[쏘카세이브] K5 (LPG)'),\n",
        "             (socar_zone['car_name']=='뉴 그랜드스타렉스') | (socar_zone['car_name']=='스타렉스')]\n",
        "\n",
        "choicelist = ['준중형', '중형SUV', '대형MPV', '준대형', '소형SUV', '소형', '경차', '중형', '승합차']\n",
        "\n",
        "\n",
        "socar_zone['\bcar_category']=np.select(conditionlist, choicelist, default='Not Specified')\n"
      ],
      "metadata": {
        "id": "UeisFj42vGUO"
      },
      "execution_count": null,
      "outputs": []
    },
    {
      "cell_type": "code",
      "execution_count": null,
      "metadata": {
        "colab": {
          "base_uri": "https://localhost:8080/",
          "height": 426
        },
        "id": "2mGxirdbAA0e",
        "outputId": "4ece4fa3-a5ef-4ceb-892c-2481ad6086da"
      },
      "outputs": [
        {
          "output_type": "execute_result",
          "data": {
            "text/plain": [
              "   reservation_id     region reservation_return_at reservation_start_at  \\\n",
              "0        19600422  서울특별시 강서구   2019-01-01 17:33:42  2018-12-31 17:30:00   \n",
              "1        19637831   울산광역시 남구   2019-01-01 12:08:55  2018-12-31 16:00:00   \n",
              "2        19670646    경기도 김포시   2019-01-02 17:30:00  2019-01-02 14:50:00   \n",
              "3        19692831   경기도 남양주시   2019-01-01 20:53:09  2018-12-31 11:00:00   \n",
              "4        19728911  서울특별시 강서구   2019-01-04 14:06:03  2019-01-03 08:00:00   \n",
              "\n",
              "   member_age member_gender  car_name zone_name       zone_address   zone_lat  \\\n",
              "0          48          male     아반떼AD     SK주차장   서울 강서구 방화동 500-8  37.573011   \n",
              "1          25          male      스포티지   우정유료주차장  울산 남구 삼산동 1481-10  35.536034   \n",
              "2          34          male  카니발 11인승     월드애비뉴  경기 김포시 구래동 6880-7  37.645571   \n",
              "3          23          male     아반떼AD   제뉴빌딩주차장  경기 남양주시 호평동 642-2  37.654861   \n",
              "4          35          male    투싼(경유)     용정주차장   서울 강서구 방화동 608-9  37.565186   \n",
              "\n",
              "     zone_lng         zone_type1          zone_type2          zone_type3  \\\n",
              "0  126.804605         LIVING_APT    TRANSFER_STATION     TRANSFER_SUBWAY   \n",
              "1  129.339783  TRANSFER_TERMINAL   TRANSFER_TERMINAL  COMMERCIAL_HOTSPOT   \n",
              "2  126.627879         LIVING_APT  COMMERCIAL_HOTSPOT                 ETC   \n",
              "3  127.244576         LIVING_APT     TRANSFER_SUBWAY  COMMERCIAL_HOTSPOT   \n",
              "4  126.816185         LIVING_ETC     TRANSFER_SUBWAY                 ETC   \n",
              "\n",
              "   reservation_created_lat  reservation_created_lng age_category \bcar_category  \n",
              "0                      NaN                      NaN           40           준중형  \n",
              "1                      NaN                      NaN           20         중형SUV  \n",
              "2                      NaN                      NaN           30         대형MPV  \n",
              "3                      NaN                      NaN           20           준중형  \n",
              "4                      NaN                      NaN           30         중형SUV  "
            ],
            "text/html": [
              "\n",
              "  <div id=\"df-5b965e09-f172-4494-8358-8965db3e22b0\">\n",
              "    <div class=\"colab-df-container\">\n",
              "      <div>\n",
              "<style scoped>\n",
              "    .dataframe tbody tr th:only-of-type {\n",
              "        vertical-align: middle;\n",
              "    }\n",
              "\n",
              "    .dataframe tbody tr th {\n",
              "        vertical-align: top;\n",
              "    }\n",
              "\n",
              "    .dataframe thead th {\n",
              "        text-align: right;\n",
              "    }\n",
              "</style>\n",
              "<table border=\"1\" class=\"dataframe\">\n",
              "  <thead>\n",
              "    <tr style=\"text-align: right;\">\n",
              "      <th></th>\n",
              "      <th>reservation_id</th>\n",
              "      <th>region</th>\n",
              "      <th>reservation_return_at</th>\n",
              "      <th>reservation_start_at</th>\n",
              "      <th>member_age</th>\n",
              "      <th>member_gender</th>\n",
              "      <th>car_name</th>\n",
              "      <th>zone_name</th>\n",
              "      <th>zone_address</th>\n",
              "      <th>zone_lat</th>\n",
              "      <th>zone_lng</th>\n",
              "      <th>zone_type1</th>\n",
              "      <th>zone_type2</th>\n",
              "      <th>zone_type3</th>\n",
              "      <th>reservation_created_lat</th>\n",
              "      <th>reservation_created_lng</th>\n",
              "      <th>age_category</th>\n",
              "      <th>\bcar_category</th>\n",
              "    </tr>\n",
              "  </thead>\n",
              "  <tbody>\n",
              "    <tr>\n",
              "      <th>0</th>\n",
              "      <td>19600422</td>\n",
              "      <td>서울특별시 강서구</td>\n",
              "      <td>2019-01-01 17:33:42</td>\n",
              "      <td>2018-12-31 17:30:00</td>\n",
              "      <td>48</td>\n",
              "      <td>male</td>\n",
              "      <td>아반떼AD</td>\n",
              "      <td>SK주차장</td>\n",
              "      <td>서울 강서구 방화동 500-8</td>\n",
              "      <td>37.573011</td>\n",
              "      <td>126.804605</td>\n",
              "      <td>LIVING_APT</td>\n",
              "      <td>TRANSFER_STATION</td>\n",
              "      <td>TRANSFER_SUBWAY</td>\n",
              "      <td>NaN</td>\n",
              "      <td>NaN</td>\n",
              "      <td>40</td>\n",
              "      <td>준중형</td>\n",
              "    </tr>\n",
              "    <tr>\n",
              "      <th>1</th>\n",
              "      <td>19637831</td>\n",
              "      <td>울산광역시 남구</td>\n",
              "      <td>2019-01-01 12:08:55</td>\n",
              "      <td>2018-12-31 16:00:00</td>\n",
              "      <td>25</td>\n",
              "      <td>male</td>\n",
              "      <td>스포티지</td>\n",
              "      <td>우정유료주차장</td>\n",
              "      <td>울산 남구 삼산동 1481-10</td>\n",
              "      <td>35.536034</td>\n",
              "      <td>129.339783</td>\n",
              "      <td>TRANSFER_TERMINAL</td>\n",
              "      <td>TRANSFER_TERMINAL</td>\n",
              "      <td>COMMERCIAL_HOTSPOT</td>\n",
              "      <td>NaN</td>\n",
              "      <td>NaN</td>\n",
              "      <td>20</td>\n",
              "      <td>중형SUV</td>\n",
              "    </tr>\n",
              "    <tr>\n",
              "      <th>2</th>\n",
              "      <td>19670646</td>\n",
              "      <td>경기도 김포시</td>\n",
              "      <td>2019-01-02 17:30:00</td>\n",
              "      <td>2019-01-02 14:50:00</td>\n",
              "      <td>34</td>\n",
              "      <td>male</td>\n",
              "      <td>카니발 11인승</td>\n",
              "      <td>월드애비뉴</td>\n",
              "      <td>경기 김포시 구래동 6880-7</td>\n",
              "      <td>37.645571</td>\n",
              "      <td>126.627879</td>\n",
              "      <td>LIVING_APT</td>\n",
              "      <td>COMMERCIAL_HOTSPOT</td>\n",
              "      <td>ETC</td>\n",
              "      <td>NaN</td>\n",
              "      <td>NaN</td>\n",
              "      <td>30</td>\n",
              "      <td>대형MPV</td>\n",
              "    </tr>\n",
              "    <tr>\n",
              "      <th>3</th>\n",
              "      <td>19692831</td>\n",
              "      <td>경기도 남양주시</td>\n",
              "      <td>2019-01-01 20:53:09</td>\n",
              "      <td>2018-12-31 11:00:00</td>\n",
              "      <td>23</td>\n",
              "      <td>male</td>\n",
              "      <td>아반떼AD</td>\n",
              "      <td>제뉴빌딩주차장</td>\n",
              "      <td>경기 남양주시 호평동 642-2</td>\n",
              "      <td>37.654861</td>\n",
              "      <td>127.244576</td>\n",
              "      <td>LIVING_APT</td>\n",
              "      <td>TRANSFER_SUBWAY</td>\n",
              "      <td>COMMERCIAL_HOTSPOT</td>\n",
              "      <td>NaN</td>\n",
              "      <td>NaN</td>\n",
              "      <td>20</td>\n",
              "      <td>준중형</td>\n",
              "    </tr>\n",
              "    <tr>\n",
              "      <th>4</th>\n",
              "      <td>19728911</td>\n",
              "      <td>서울특별시 강서구</td>\n",
              "      <td>2019-01-04 14:06:03</td>\n",
              "      <td>2019-01-03 08:00:00</td>\n",
              "      <td>35</td>\n",
              "      <td>male</td>\n",
              "      <td>투싼(경유)</td>\n",
              "      <td>용정주차장</td>\n",
              "      <td>서울 강서구 방화동 608-9</td>\n",
              "      <td>37.565186</td>\n",
              "      <td>126.816185</td>\n",
              "      <td>LIVING_ETC</td>\n",
              "      <td>TRANSFER_SUBWAY</td>\n",
              "      <td>ETC</td>\n",
              "      <td>NaN</td>\n",
              "      <td>NaN</td>\n",
              "      <td>30</td>\n",
              "      <td>중형SUV</td>\n",
              "    </tr>\n",
              "  </tbody>\n",
              "</table>\n",
              "</div>\n",
              "      <button class=\"colab-df-convert\" onclick=\"convertToInteractive('df-5b965e09-f172-4494-8358-8965db3e22b0')\"\n",
              "              title=\"Convert this dataframe to an interactive table.\"\n",
              "              style=\"display:none;\">\n",
              "        \n",
              "  <svg xmlns=\"http://www.w3.org/2000/svg\" height=\"24px\"viewBox=\"0 0 24 24\"\n",
              "       width=\"24px\">\n",
              "    <path d=\"M0 0h24v24H0V0z\" fill=\"none\"/>\n",
              "    <path d=\"M18.56 5.44l.94 2.06.94-2.06 2.06-.94-2.06-.94-.94-2.06-.94 2.06-2.06.94zm-11 1L8.5 8.5l.94-2.06 2.06-.94-2.06-.94L8.5 2.5l-.94 2.06-2.06.94zm10 10l.94 2.06.94-2.06 2.06-.94-2.06-.94-.94-2.06-.94 2.06-2.06.94z\"/><path d=\"M17.41 7.96l-1.37-1.37c-.4-.4-.92-.59-1.43-.59-.52 0-1.04.2-1.43.59L10.3 9.45l-7.72 7.72c-.78.78-.78 2.05 0 2.83L4 21.41c.39.39.9.59 1.41.59.51 0 1.02-.2 1.41-.59l7.78-7.78 2.81-2.81c.8-.78.8-2.07 0-2.86zM5.41 20L4 18.59l7.72-7.72 1.47 1.35L5.41 20z\"/>\n",
              "  </svg>\n",
              "      </button>\n",
              "      \n",
              "  <style>\n",
              "    .colab-df-container {\n",
              "      display:flex;\n",
              "      flex-wrap:wrap;\n",
              "      gap: 12px;\n",
              "    }\n",
              "\n",
              "    .colab-df-convert {\n",
              "      background-color: #E8F0FE;\n",
              "      border: none;\n",
              "      border-radius: 50%;\n",
              "      cursor: pointer;\n",
              "      display: none;\n",
              "      fill: #1967D2;\n",
              "      height: 32px;\n",
              "      padding: 0 0 0 0;\n",
              "      width: 32px;\n",
              "    }\n",
              "\n",
              "    .colab-df-convert:hover {\n",
              "      background-color: #E2EBFA;\n",
              "      box-shadow: 0px 1px 2px rgba(60, 64, 67, 0.3), 0px 1px 3px 1px rgba(60, 64, 67, 0.15);\n",
              "      fill: #174EA6;\n",
              "    }\n",
              "\n",
              "    [theme=dark] .colab-df-convert {\n",
              "      background-color: #3B4455;\n",
              "      fill: #D2E3FC;\n",
              "    }\n",
              "\n",
              "    [theme=dark] .colab-df-convert:hover {\n",
              "      background-color: #434B5C;\n",
              "      box-shadow: 0px 1px 3px 1px rgba(0, 0, 0, 0.15);\n",
              "      filter: drop-shadow(0px 1px 2px rgba(0, 0, 0, 0.3));\n",
              "      fill: #FFFFFF;\n",
              "    }\n",
              "  </style>\n",
              "\n",
              "      <script>\n",
              "        const buttonEl =\n",
              "          document.querySelector('#df-5b965e09-f172-4494-8358-8965db3e22b0 button.colab-df-convert');\n",
              "        buttonEl.style.display =\n",
              "          google.colab.kernel.accessAllowed ? 'block' : 'none';\n",
              "\n",
              "        async function convertToInteractive(key) {\n",
              "          const element = document.querySelector('#df-5b965e09-f172-4494-8358-8965db3e22b0');\n",
              "          const dataTable =\n",
              "            await google.colab.kernel.invokeFunction('convertToInteractive',\n",
              "                                                     [key], {});\n",
              "          if (!dataTable) return;\n",
              "\n",
              "          const docLinkHtml = 'Like what you see? Visit the ' +\n",
              "            '<a target=\"_blank\" href=https://colab.research.google.com/notebooks/data_table.ipynb>data table notebook</a>'\n",
              "            + ' to learn more about interactive tables.';\n",
              "          element.innerHTML = '';\n",
              "          dataTable['output_type'] = 'display_data';\n",
              "          await google.colab.output.renderOutput(dataTable, element);\n",
              "          const docLink = document.createElement('div');\n",
              "          docLink.innerHTML = docLinkHtml;\n",
              "          element.appendChild(docLink);\n",
              "        }\n",
              "      </script>\n",
              "    </div>\n",
              "  </div>\n",
              "  "
            ]
          },
          "metadata": {},
          "execution_count": 6
        }
      ],
      "source": [
        "socar_zone.head()"
      ]
    },
    {
      "cell_type": "code",
      "execution_count": null,
      "metadata": {
        "id": "g0yqT2e4_eVC"
      },
      "outputs": [],
      "source": [
        "# Ordianl Encoding\n",
        "enc = OrdinalEncoder(dtype=np.float64)\n",
        "ordinal1 = enc.fit_transform(np.asarray(socar_zone['zone_type1']).reshape(-1,1))\n",
        "socar_zone['zone_type1'] = ordinal1[:,0]\n",
        "ordinal2 = enc.fit_transform(np.asarray(socar_zone['zone_type2']).reshape(-1,1))\n",
        "socar_zone['zone_type2'] = ordinal2[:,0]\n",
        "ordinal3 = enc.fit_transform(np.asarray(socar_zone['zone_type3']).reshape(-1,1))\n",
        "socar_zone['zone_type3'] = ordinal3[:,0]\n",
        "ordinal4 = enc.fit_transform(np.asarray(socar_zone['member_gender']).reshape(-1,1))\n",
        "socar_zone['member_gender'] = ordinal4[:,0]\n",
        "ordinal5 = enc.fit_transform(np.asarray(socar_zone['region']).reshape(-1,1))\n",
        "socar_zone['region_ordinal'] = ordinal5[:,0]\n",
        "ordinal6 = enc.fit_transform(np.asarray(socar_zone['car_name']).reshape(-1,1))\n",
        "socar_zone['car_name'] = ordinal6[:,0]\n",
        "ordinal7 = enc.fit_transform(np.asarray(socar_zone['zone_name']).reshape(-1,1))\n",
        "socar_zone['zone_name'] = ordinal7[:,0]\n",
        "ordinal8 = enc.fit_transform(np.asarray(socar_zone['\bcar_category']).reshape(-1,1))\n",
        "socar_zone['\bcar_category'] = ordinal8[:,0]"
      ]
    },
    {
      "cell_type": "code",
      "source": [
        "socar_zone['distance'] = ((socar_zone['zone_lat']-socar_zone['reservation_created_lat'])**2 + (socar_zone['zone_lng']-socar_zone['reservation_created_lng'])**2)*100000"
      ],
      "metadata": {
        "id": "OxsPjYpS_tfE"
      },
      "execution_count": null,
      "outputs": []
    },
    {
      "cell_type": "code",
      "source": [
        "\n",
        "##이용시간 계산\n",
        "dataframe = pd.DataFrame()\n",
        "\n",
        "dataframe['return'] = pd.to_datetime(socar_zone['reservation_return_at'])\n",
        "dataframe['start'] = pd.to_datetime(socar_zone['reservation_start_at'])\n",
        "\n",
        "socar_zone['duration'] = dataframe['return'] - dataframe['start']\n",
        "\n",
        "socar_zone['duration'] = socar_zone['duration'].astype('int64')/1e9"
      ],
      "metadata": {
        "id": "ageiYBzj_tRW",
        "colab": {
          "base_uri": "https://localhost:8080/"
        },
        "outputId": "731b2aeb-aee3-4a15-d898-f188adf629e4"
      },
      "execution_count": null,
      "outputs": [
        {
          "output_type": "stream",
          "name": "stderr",
          "text": [
            "/usr/local/lib/python3.7/dist-packages/ipykernel_launcher.py:10: FutureWarning: casting timedelta64[ns] values to int64 with .astype(...) is deprecated and will raise in a future version. Use .view(...) instead.\n",
            "  # Remove the CWD from sys.path while we load stuff.\n"
          ]
        }
      ]
    },
    {
      "cell_type": "code",
      "source": [
        "socar_zone = socar_zone.drop(['reservation_id','region','reservation_return_at','reservation_start_at','zone_lat','zone_lng','reservation_created_lat','reservation_created_lng'],1)"
      ],
      "metadata": {
        "id": "EECznFHi_wPC",
        "colab": {
          "base_uri": "https://localhost:8080/"
        },
        "outputId": "28278939-f8d7-4e65-bbf0-3eca1463c90e"
      },
      "execution_count": null,
      "outputs": [
        {
          "output_type": "stream",
          "name": "stderr",
          "text": [
            "/usr/local/lib/python3.7/dist-packages/ipykernel_launcher.py:1: FutureWarning: In a future version of pandas all arguments of DataFrame.drop except for the argument 'labels' will be keyword-only\n",
            "  \"\"\"Entry point for launching an IPython kernel.\n"
          ]
        }
      ]
    },
    {
      "cell_type": "code",
      "source": [
        "socar_zone.head()"
      ],
      "metadata": {
        "id": "5YKiCA9b_wK0",
        "colab": {
          "base_uri": "https://localhost:8080/",
          "height": 206
        },
        "outputId": "9f76a719-a324-4f95-a70e-62e8f5d658b4"
      },
      "execution_count": null,
      "outputs": [
        {
          "output_type": "execute_result",
          "data": {
            "text/plain": [
              "   member_age  member_gender  car_name  zone_name       zone_address  \\\n",
              "0          48            1.0      43.0       71.0   서울 강서구 방화동 500-8   \n",
              "1          25            1.0      36.0      799.0  울산 남구 삼산동 1481-10   \n",
              "2          34            1.0      49.0      820.0  경기 김포시 구래동 6880-7   \n",
              "3          23            1.0      43.0      957.0  경기 남양주시 호평동 642-2   \n",
              "4          35            1.0      52.0      782.0   서울 강서구 방화동 608-9   \n",
              "\n",
              "   zone_type1  zone_type2  zone_type3 age_category  \bcar_category  \\\n",
              "0         5.0        12.0        12.0           40            7.0   \n",
              "1        13.0        14.0         0.0           20            9.0   \n",
              "2         5.0         0.0         5.0           30            2.0   \n",
              "3         5.0        13.0         0.0           20            7.0   \n",
              "4         6.0        13.0         5.0           30            9.0   \n",
              "\n",
              "   region_ordinal  distance  duration  \n",
              "0            18.0       NaN   86622.0  \n",
              "1            23.0       NaN   72535.0  \n",
              "2             5.0       NaN    9600.0  \n",
              "3             6.0       NaN  121989.0  \n",
              "4            18.0       NaN  108363.0  "
            ],
            "text/html": [
              "\n",
              "  <div id=\"df-e64e8c17-14ec-4abe-8d35-10bf73ca6bb8\">\n",
              "    <div class=\"colab-df-container\">\n",
              "      <div>\n",
              "<style scoped>\n",
              "    .dataframe tbody tr th:only-of-type {\n",
              "        vertical-align: middle;\n",
              "    }\n",
              "\n",
              "    .dataframe tbody tr th {\n",
              "        vertical-align: top;\n",
              "    }\n",
              "\n",
              "    .dataframe thead th {\n",
              "        text-align: right;\n",
              "    }\n",
              "</style>\n",
              "<table border=\"1\" class=\"dataframe\">\n",
              "  <thead>\n",
              "    <tr style=\"text-align: right;\">\n",
              "      <th></th>\n",
              "      <th>member_age</th>\n",
              "      <th>member_gender</th>\n",
              "      <th>car_name</th>\n",
              "      <th>zone_name</th>\n",
              "      <th>zone_address</th>\n",
              "      <th>zone_type1</th>\n",
              "      <th>zone_type2</th>\n",
              "      <th>zone_type3</th>\n",
              "      <th>age_category</th>\n",
              "      <th>\bcar_category</th>\n",
              "      <th>region_ordinal</th>\n",
              "      <th>distance</th>\n",
              "      <th>duration</th>\n",
              "    </tr>\n",
              "  </thead>\n",
              "  <tbody>\n",
              "    <tr>\n",
              "      <th>0</th>\n",
              "      <td>48</td>\n",
              "      <td>1.0</td>\n",
              "      <td>43.0</td>\n",
              "      <td>71.0</td>\n",
              "      <td>서울 강서구 방화동 500-8</td>\n",
              "      <td>5.0</td>\n",
              "      <td>12.0</td>\n",
              "      <td>12.0</td>\n",
              "      <td>40</td>\n",
              "      <td>7.0</td>\n",
              "      <td>18.0</td>\n",
              "      <td>NaN</td>\n",
              "      <td>86622.0</td>\n",
              "    </tr>\n",
              "    <tr>\n",
              "      <th>1</th>\n",
              "      <td>25</td>\n",
              "      <td>1.0</td>\n",
              "      <td>36.0</td>\n",
              "      <td>799.0</td>\n",
              "      <td>울산 남구 삼산동 1481-10</td>\n",
              "      <td>13.0</td>\n",
              "      <td>14.0</td>\n",
              "      <td>0.0</td>\n",
              "      <td>20</td>\n",
              "      <td>9.0</td>\n",
              "      <td>23.0</td>\n",
              "      <td>NaN</td>\n",
              "      <td>72535.0</td>\n",
              "    </tr>\n",
              "    <tr>\n",
              "      <th>2</th>\n",
              "      <td>34</td>\n",
              "      <td>1.0</td>\n",
              "      <td>49.0</td>\n",
              "      <td>820.0</td>\n",
              "      <td>경기 김포시 구래동 6880-7</td>\n",
              "      <td>5.0</td>\n",
              "      <td>0.0</td>\n",
              "      <td>5.0</td>\n",
              "      <td>30</td>\n",
              "      <td>2.0</td>\n",
              "      <td>5.0</td>\n",
              "      <td>NaN</td>\n",
              "      <td>9600.0</td>\n",
              "    </tr>\n",
              "    <tr>\n",
              "      <th>3</th>\n",
              "      <td>23</td>\n",
              "      <td>1.0</td>\n",
              "      <td>43.0</td>\n",
              "      <td>957.0</td>\n",
              "      <td>경기 남양주시 호평동 642-2</td>\n",
              "      <td>5.0</td>\n",
              "      <td>13.0</td>\n",
              "      <td>0.0</td>\n",
              "      <td>20</td>\n",
              "      <td>7.0</td>\n",
              "      <td>6.0</td>\n",
              "      <td>NaN</td>\n",
              "      <td>121989.0</td>\n",
              "    </tr>\n",
              "    <tr>\n",
              "      <th>4</th>\n",
              "      <td>35</td>\n",
              "      <td>1.0</td>\n",
              "      <td>52.0</td>\n",
              "      <td>782.0</td>\n",
              "      <td>서울 강서구 방화동 608-9</td>\n",
              "      <td>6.0</td>\n",
              "      <td>13.0</td>\n",
              "      <td>5.0</td>\n",
              "      <td>30</td>\n",
              "      <td>9.0</td>\n",
              "      <td>18.0</td>\n",
              "      <td>NaN</td>\n",
              "      <td>108363.0</td>\n",
              "    </tr>\n",
              "  </tbody>\n",
              "</table>\n",
              "</div>\n",
              "      <button class=\"colab-df-convert\" onclick=\"convertToInteractive('df-e64e8c17-14ec-4abe-8d35-10bf73ca6bb8')\"\n",
              "              title=\"Convert this dataframe to an interactive table.\"\n",
              "              style=\"display:none;\">\n",
              "        \n",
              "  <svg xmlns=\"http://www.w3.org/2000/svg\" height=\"24px\"viewBox=\"0 0 24 24\"\n",
              "       width=\"24px\">\n",
              "    <path d=\"M0 0h24v24H0V0z\" fill=\"none\"/>\n",
              "    <path d=\"M18.56 5.44l.94 2.06.94-2.06 2.06-.94-2.06-.94-.94-2.06-.94 2.06-2.06.94zm-11 1L8.5 8.5l.94-2.06 2.06-.94-2.06-.94L8.5 2.5l-.94 2.06-2.06.94zm10 10l.94 2.06.94-2.06 2.06-.94-2.06-.94-.94-2.06-.94 2.06-2.06.94z\"/><path d=\"M17.41 7.96l-1.37-1.37c-.4-.4-.92-.59-1.43-.59-.52 0-1.04.2-1.43.59L10.3 9.45l-7.72 7.72c-.78.78-.78 2.05 0 2.83L4 21.41c.39.39.9.59 1.41.59.51 0 1.02-.2 1.41-.59l7.78-7.78 2.81-2.81c.8-.78.8-2.07 0-2.86zM5.41 20L4 18.59l7.72-7.72 1.47 1.35L5.41 20z\"/>\n",
              "  </svg>\n",
              "      </button>\n",
              "      \n",
              "  <style>\n",
              "    .colab-df-container {\n",
              "      display:flex;\n",
              "      flex-wrap:wrap;\n",
              "      gap: 12px;\n",
              "    }\n",
              "\n",
              "    .colab-df-convert {\n",
              "      background-color: #E8F0FE;\n",
              "      border: none;\n",
              "      border-radius: 50%;\n",
              "      cursor: pointer;\n",
              "      display: none;\n",
              "      fill: #1967D2;\n",
              "      height: 32px;\n",
              "      padding: 0 0 0 0;\n",
              "      width: 32px;\n",
              "    }\n",
              "\n",
              "    .colab-df-convert:hover {\n",
              "      background-color: #E2EBFA;\n",
              "      box-shadow: 0px 1px 2px rgba(60, 64, 67, 0.3), 0px 1px 3px 1px rgba(60, 64, 67, 0.15);\n",
              "      fill: #174EA6;\n",
              "    }\n",
              "\n",
              "    [theme=dark] .colab-df-convert {\n",
              "      background-color: #3B4455;\n",
              "      fill: #D2E3FC;\n",
              "    }\n",
              "\n",
              "    [theme=dark] .colab-df-convert:hover {\n",
              "      background-color: #434B5C;\n",
              "      box-shadow: 0px 1px 3px 1px rgba(0, 0, 0, 0.15);\n",
              "      filter: drop-shadow(0px 1px 2px rgba(0, 0, 0, 0.3));\n",
              "      fill: #FFFFFF;\n",
              "    }\n",
              "  </style>\n",
              "\n",
              "      <script>\n",
              "        const buttonEl =\n",
              "          document.querySelector('#df-e64e8c17-14ec-4abe-8d35-10bf73ca6bb8 button.colab-df-convert');\n",
              "        buttonEl.style.display =\n",
              "          google.colab.kernel.accessAllowed ? 'block' : 'none';\n",
              "\n",
              "        async function convertToInteractive(key) {\n",
              "          const element = document.querySelector('#df-e64e8c17-14ec-4abe-8d35-10bf73ca6bb8');\n",
              "          const dataTable =\n",
              "            await google.colab.kernel.invokeFunction('convertToInteractive',\n",
              "                                                     [key], {});\n",
              "          if (!dataTable) return;\n",
              "\n",
              "          const docLinkHtml = 'Like what you see? Visit the ' +\n",
              "            '<a target=\"_blank\" href=https://colab.research.google.com/notebooks/data_table.ipynb>data table notebook</a>'\n",
              "            + ' to learn more about interactive tables.';\n",
              "          element.innerHTML = '';\n",
              "          dataTable['output_type'] = 'display_data';\n",
              "          await google.colab.output.renderOutput(dataTable, element);\n",
              "          const docLink = document.createElement('div');\n",
              "          docLink.innerHTML = docLinkHtml;\n",
              "          element.appendChild(docLink);\n",
              "        }\n",
              "      </script>\n",
              "    </div>\n",
              "  </div>\n",
              "  "
            ]
          },
          "metadata": {},
          "execution_count": 11
        }
      ]
    },
    {
      "cell_type": "code",
      "source": [
        "socar_zone = socar_zone.drop(['zone_address'],1)"
      ],
      "metadata": {
        "id": "VZrvH2JJ_4y0",
        "colab": {
          "base_uri": "https://localhost:8080/"
        },
        "outputId": "564e46b6-6a42-410b-b1f2-b20a9bbb1723"
      },
      "execution_count": null,
      "outputs": [
        {
          "output_type": "stream",
          "name": "stderr",
          "text": [
            "/usr/local/lib/python3.7/dist-packages/ipykernel_launcher.py:1: FutureWarning: In a future version of pandas all arguments of DataFrame.drop except for the argument 'labels' will be keyword-only\n",
            "  \"\"\"Entry point for launching an IPython kernel.\n"
          ]
        }
      ]
    },
    {
      "cell_type": "code",
      "source": [
        "socar_zone.fillna(0)"
      ],
      "metadata": {
        "id": "RP0m0g6A_6oB",
        "colab": {
          "base_uri": "https://localhost:8080/",
          "height": 423
        },
        "outputId": "ebe8a347-311b-4fc5-9ee7-0ac221041dcc"
      },
      "execution_count": null,
      "outputs": [
        {
          "output_type": "execute_result",
          "data": {
            "text/plain": [
              "        member_age  member_gender  car_name  zone_name  zone_type1  \\\n",
              "0               48            1.0      43.0       71.0         5.0   \n",
              "1               25            1.0      36.0      799.0        13.0   \n",
              "2               34            1.0      49.0      820.0         5.0   \n",
              "3               23            1.0      43.0      957.0         5.0   \n",
              "4               35            1.0      52.0      782.0         6.0   \n",
              "...            ...            ...       ...        ...         ...   \n",
              "751544          26            1.0      13.0      253.0         6.0   \n",
              "751545          28            0.0      23.0      859.0         5.0   \n",
              "751546          23            1.0      24.0      704.0         6.0   \n",
              "751547          30            1.0      14.0      680.0         6.0   \n",
              "751548          27            1.0      17.0      626.0         6.0   \n",
              "\n",
              "        zone_type2  zone_type3 age_category  \bcar_category  region_ordinal  \\\n",
              "0             12.0        12.0           40            7.0            18.0   \n",
              "1             14.0         0.0           20            9.0            23.0   \n",
              "2              0.0         5.0           30            2.0             5.0   \n",
              "3             13.0         0.0           20            7.0             6.0   \n",
              "4             13.0         5.0           30            9.0            18.0   \n",
              "...            ...         ...          ...            ...             ...   \n",
              "751544         3.0         0.0           20            1.0            17.0   \n",
              "751545         8.0         0.0           20            1.0             7.0   \n",
              "751546        13.0         0.0           20            7.0            13.0   \n",
              "751547        11.0         5.0           30            7.0            20.0   \n",
              "751548         0.0         5.0           20            3.0             8.0   \n",
              "\n",
              "        distance  duration  \n",
              "0       0.000000   86622.0  \n",
              "1       0.000000   72535.0  \n",
              "2       0.000000    9600.0  \n",
              "3       0.000000  121989.0  \n",
              "4       0.000000  108363.0  \n",
              "...          ...       ...  \n",
              "751544  0.042377    3674.0  \n",
              "751545  0.302336    2474.0  \n",
              "751546  0.007081    2238.0  \n",
              "751547  0.069138    1868.0  \n",
              "751548  0.367518    1106.0  \n",
              "\n",
              "[751549 rows x 12 columns]"
            ],
            "text/html": [
              "\n",
              "  <div id=\"df-42a366ae-7eb9-4f9f-8037-5b9ee370020a\">\n",
              "    <div class=\"colab-df-container\">\n",
              "      <div>\n",
              "<style scoped>\n",
              "    .dataframe tbody tr th:only-of-type {\n",
              "        vertical-align: middle;\n",
              "    }\n",
              "\n",
              "    .dataframe tbody tr th {\n",
              "        vertical-align: top;\n",
              "    }\n",
              "\n",
              "    .dataframe thead th {\n",
              "        text-align: right;\n",
              "    }\n",
              "</style>\n",
              "<table border=\"1\" class=\"dataframe\">\n",
              "  <thead>\n",
              "    <tr style=\"text-align: right;\">\n",
              "      <th></th>\n",
              "      <th>member_age</th>\n",
              "      <th>member_gender</th>\n",
              "      <th>car_name</th>\n",
              "      <th>zone_name</th>\n",
              "      <th>zone_type1</th>\n",
              "      <th>zone_type2</th>\n",
              "      <th>zone_type3</th>\n",
              "      <th>age_category</th>\n",
              "      <th>\bcar_category</th>\n",
              "      <th>region_ordinal</th>\n",
              "      <th>distance</th>\n",
              "      <th>duration</th>\n",
              "    </tr>\n",
              "  </thead>\n",
              "  <tbody>\n",
              "    <tr>\n",
              "      <th>0</th>\n",
              "      <td>48</td>\n",
              "      <td>1.0</td>\n",
              "      <td>43.0</td>\n",
              "      <td>71.0</td>\n",
              "      <td>5.0</td>\n",
              "      <td>12.0</td>\n",
              "      <td>12.0</td>\n",
              "      <td>40</td>\n",
              "      <td>7.0</td>\n",
              "      <td>18.0</td>\n",
              "      <td>0.000000</td>\n",
              "      <td>86622.0</td>\n",
              "    </tr>\n",
              "    <tr>\n",
              "      <th>1</th>\n",
              "      <td>25</td>\n",
              "      <td>1.0</td>\n",
              "      <td>36.0</td>\n",
              "      <td>799.0</td>\n",
              "      <td>13.0</td>\n",
              "      <td>14.0</td>\n",
              "      <td>0.0</td>\n",
              "      <td>20</td>\n",
              "      <td>9.0</td>\n",
              "      <td>23.0</td>\n",
              "      <td>0.000000</td>\n",
              "      <td>72535.0</td>\n",
              "    </tr>\n",
              "    <tr>\n",
              "      <th>2</th>\n",
              "      <td>34</td>\n",
              "      <td>1.0</td>\n",
              "      <td>49.0</td>\n",
              "      <td>820.0</td>\n",
              "      <td>5.0</td>\n",
              "      <td>0.0</td>\n",
              "      <td>5.0</td>\n",
              "      <td>30</td>\n",
              "      <td>2.0</td>\n",
              "      <td>5.0</td>\n",
              "      <td>0.000000</td>\n",
              "      <td>9600.0</td>\n",
              "    </tr>\n",
              "    <tr>\n",
              "      <th>3</th>\n",
              "      <td>23</td>\n",
              "      <td>1.0</td>\n",
              "      <td>43.0</td>\n",
              "      <td>957.0</td>\n",
              "      <td>5.0</td>\n",
              "      <td>13.0</td>\n",
              "      <td>0.0</td>\n",
              "      <td>20</td>\n",
              "      <td>7.0</td>\n",
              "      <td>6.0</td>\n",
              "      <td>0.000000</td>\n",
              "      <td>121989.0</td>\n",
              "    </tr>\n",
              "    <tr>\n",
              "      <th>4</th>\n",
              "      <td>35</td>\n",
              "      <td>1.0</td>\n",
              "      <td>52.0</td>\n",
              "      <td>782.0</td>\n",
              "      <td>6.0</td>\n",
              "      <td>13.0</td>\n",
              "      <td>5.0</td>\n",
              "      <td>30</td>\n",
              "      <td>9.0</td>\n",
              "      <td>18.0</td>\n",
              "      <td>0.000000</td>\n",
              "      <td>108363.0</td>\n",
              "    </tr>\n",
              "    <tr>\n",
              "      <th>...</th>\n",
              "      <td>...</td>\n",
              "      <td>...</td>\n",
              "      <td>...</td>\n",
              "      <td>...</td>\n",
              "      <td>...</td>\n",
              "      <td>...</td>\n",
              "      <td>...</td>\n",
              "      <td>...</td>\n",
              "      <td>...</td>\n",
              "      <td>...</td>\n",
              "      <td>...</td>\n",
              "      <td>...</td>\n",
              "    </tr>\n",
              "    <tr>\n",
              "      <th>751544</th>\n",
              "      <td>26</td>\n",
              "      <td>1.0</td>\n",
              "      <td>13.0</td>\n",
              "      <td>253.0</td>\n",
              "      <td>6.0</td>\n",
              "      <td>3.0</td>\n",
              "      <td>0.0</td>\n",
              "      <td>20</td>\n",
              "      <td>1.0</td>\n",
              "      <td>17.0</td>\n",
              "      <td>0.042377</td>\n",
              "      <td>3674.0</td>\n",
              "    </tr>\n",
              "    <tr>\n",
              "      <th>751545</th>\n",
              "      <td>28</td>\n",
              "      <td>0.0</td>\n",
              "      <td>23.0</td>\n",
              "      <td>859.0</td>\n",
              "      <td>5.0</td>\n",
              "      <td>8.0</td>\n",
              "      <td>0.0</td>\n",
              "      <td>20</td>\n",
              "      <td>1.0</td>\n",
              "      <td>7.0</td>\n",
              "      <td>0.302336</td>\n",
              "      <td>2474.0</td>\n",
              "    </tr>\n",
              "    <tr>\n",
              "      <th>751546</th>\n",
              "      <td>23</td>\n",
              "      <td>1.0</td>\n",
              "      <td>24.0</td>\n",
              "      <td>704.0</td>\n",
              "      <td>6.0</td>\n",
              "      <td>13.0</td>\n",
              "      <td>0.0</td>\n",
              "      <td>20</td>\n",
              "      <td>7.0</td>\n",
              "      <td>13.0</td>\n",
              "      <td>0.007081</td>\n",
              "      <td>2238.0</td>\n",
              "    </tr>\n",
              "    <tr>\n",
              "      <th>751547</th>\n",
              "      <td>30</td>\n",
              "      <td>1.0</td>\n",
              "      <td>14.0</td>\n",
              "      <td>680.0</td>\n",
              "      <td>6.0</td>\n",
              "      <td>11.0</td>\n",
              "      <td>5.0</td>\n",
              "      <td>30</td>\n",
              "      <td>7.0</td>\n",
              "      <td>20.0</td>\n",
              "      <td>0.069138</td>\n",
              "      <td>1868.0</td>\n",
              "    </tr>\n",
              "    <tr>\n",
              "      <th>751548</th>\n",
              "      <td>27</td>\n",
              "      <td>1.0</td>\n",
              "      <td>17.0</td>\n",
              "      <td>626.0</td>\n",
              "      <td>6.0</td>\n",
              "      <td>0.0</td>\n",
              "      <td>5.0</td>\n",
              "      <td>20</td>\n",
              "      <td>3.0</td>\n",
              "      <td>8.0</td>\n",
              "      <td>0.367518</td>\n",
              "      <td>1106.0</td>\n",
              "    </tr>\n",
              "  </tbody>\n",
              "</table>\n",
              "<p>751549 rows × 12 columns</p>\n",
              "</div>\n",
              "      <button class=\"colab-df-convert\" onclick=\"convertToInteractive('df-42a366ae-7eb9-4f9f-8037-5b9ee370020a')\"\n",
              "              title=\"Convert this dataframe to an interactive table.\"\n",
              "              style=\"display:none;\">\n",
              "        \n",
              "  <svg xmlns=\"http://www.w3.org/2000/svg\" height=\"24px\"viewBox=\"0 0 24 24\"\n",
              "       width=\"24px\">\n",
              "    <path d=\"M0 0h24v24H0V0z\" fill=\"none\"/>\n",
              "    <path d=\"M18.56 5.44l.94 2.06.94-2.06 2.06-.94-2.06-.94-.94-2.06-.94 2.06-2.06.94zm-11 1L8.5 8.5l.94-2.06 2.06-.94-2.06-.94L8.5 2.5l-.94 2.06-2.06.94zm10 10l.94 2.06.94-2.06 2.06-.94-2.06-.94-.94-2.06-.94 2.06-2.06.94z\"/><path d=\"M17.41 7.96l-1.37-1.37c-.4-.4-.92-.59-1.43-.59-.52 0-1.04.2-1.43.59L10.3 9.45l-7.72 7.72c-.78.78-.78 2.05 0 2.83L4 21.41c.39.39.9.59 1.41.59.51 0 1.02-.2 1.41-.59l7.78-7.78 2.81-2.81c.8-.78.8-2.07 0-2.86zM5.41 20L4 18.59l7.72-7.72 1.47 1.35L5.41 20z\"/>\n",
              "  </svg>\n",
              "      </button>\n",
              "      \n",
              "  <style>\n",
              "    .colab-df-container {\n",
              "      display:flex;\n",
              "      flex-wrap:wrap;\n",
              "      gap: 12px;\n",
              "    }\n",
              "\n",
              "    .colab-df-convert {\n",
              "      background-color: #E8F0FE;\n",
              "      border: none;\n",
              "      border-radius: 50%;\n",
              "      cursor: pointer;\n",
              "      display: none;\n",
              "      fill: #1967D2;\n",
              "      height: 32px;\n",
              "      padding: 0 0 0 0;\n",
              "      width: 32px;\n",
              "    }\n",
              "\n",
              "    .colab-df-convert:hover {\n",
              "      background-color: #E2EBFA;\n",
              "      box-shadow: 0px 1px 2px rgba(60, 64, 67, 0.3), 0px 1px 3px 1px rgba(60, 64, 67, 0.15);\n",
              "      fill: #174EA6;\n",
              "    }\n",
              "\n",
              "    [theme=dark] .colab-df-convert {\n",
              "      background-color: #3B4455;\n",
              "      fill: #D2E3FC;\n",
              "    }\n",
              "\n",
              "    [theme=dark] .colab-df-convert:hover {\n",
              "      background-color: #434B5C;\n",
              "      box-shadow: 0px 1px 3px 1px rgba(0, 0, 0, 0.15);\n",
              "      filter: drop-shadow(0px 1px 2px rgba(0, 0, 0, 0.3));\n",
              "      fill: #FFFFFF;\n",
              "    }\n",
              "  </style>\n",
              "\n",
              "      <script>\n",
              "        const buttonEl =\n",
              "          document.querySelector('#df-42a366ae-7eb9-4f9f-8037-5b9ee370020a button.colab-df-convert');\n",
              "        buttonEl.style.display =\n",
              "          google.colab.kernel.accessAllowed ? 'block' : 'none';\n",
              "\n",
              "        async function convertToInteractive(key) {\n",
              "          const element = document.querySelector('#df-42a366ae-7eb9-4f9f-8037-5b9ee370020a');\n",
              "          const dataTable =\n",
              "            await google.colab.kernel.invokeFunction('convertToInteractive',\n",
              "                                                     [key], {});\n",
              "          if (!dataTable) return;\n",
              "\n",
              "          const docLinkHtml = 'Like what you see? Visit the ' +\n",
              "            '<a target=\"_blank\" href=https://colab.research.google.com/notebooks/data_table.ipynb>data table notebook</a>'\n",
              "            + ' to learn more about interactive tables.';\n",
              "          element.innerHTML = '';\n",
              "          dataTable['output_type'] = 'display_data';\n",
              "          await google.colab.output.renderOutput(dataTable, element);\n",
              "          const docLink = document.createElement('div');\n",
              "          docLink.innerHTML = docLinkHtml;\n",
              "          element.appendChild(docLink);\n",
              "        }\n",
              "      </script>\n",
              "    </div>\n",
              "  </div>\n",
              "  "
            ]
          },
          "metadata": {},
          "execution_count": 13
        }
      ]
    },
    {
      "cell_type": "code",
      "source": [
        "socar_zone.shape\n",
        "socar_zone.dtypes"
      ],
      "metadata": {
        "id": "1UqoVppr_6lt",
        "colab": {
          "base_uri": "https://localhost:8080/"
        },
        "outputId": "3f9c767c-e889-42c4-a2d9-9c099bd9fdd4"
      },
      "execution_count": null,
      "outputs": [
        {
          "output_type": "execute_result",
          "data": {
            "text/plain": [
              "member_age          int64\n",
              "member_gender     float64\n",
              "car_name          float64\n",
              "zone_name         float64\n",
              "zone_type1        float64\n",
              "zone_type2        float64\n",
              "zone_type3        float64\n",
              "age_category       object\n",
              "\bcar_category     float64\n",
              "region_ordinal    float64\n",
              "distance          float64\n",
              "duration          float64\n",
              "dtype: object"
            ]
          },
          "metadata": {},
          "execution_count": 14
        }
      ]
    },
    {
      "cell_type": "code",
      "source": [
        "## train & test data\n",
        "socar_zone = socar_zone.sample(frac=1, random_state=0).reset_index(drop=True)\n",
        "train = socar_zone[:601240]\n",
        "test = socar_zone[601240:]"
      ],
      "metadata": {
        "id": "Kz2u5VBI_6jE"
      },
      "execution_count": null,
      "outputs": []
    },
    {
      "cell_type": "code",
      "source": [
        "x_train = np.asarray(train.drop('duration',1)) ## input\n",
        "y_train = np.asarray(train['duration']) ## target\n",
        "x_test = np.asarray(test.drop('duration',1)) ## input\n",
        "y_test = np.asarray(test['duration']) ## target\n",
        "duration_features = [x for i,x in enumerate(socar_zone.columns) if i!=0]"
      ],
      "metadata": {
        "id": "us0sGivM_-WW",
        "colab": {
          "base_uri": "https://localhost:8080/"
        },
        "outputId": "49e6c4e5-8738-419e-c7ff-da7a34fb478f"
      },
      "execution_count": null,
      "outputs": [
        {
          "output_type": "stream",
          "name": "stderr",
          "text": [
            "/usr/local/lib/python3.7/dist-packages/ipykernel_launcher.py:1: FutureWarning: In a future version of pandas all arguments of DataFrame.drop except for the argument 'labels' will be keyword-only\n",
            "  \"\"\"Entry point for launching an IPython kernel.\n",
            "/usr/local/lib/python3.7/dist-packages/ipykernel_launcher.py:3: FutureWarning: In a future version of pandas all arguments of DataFrame.drop except for the argument 'labels' will be keyword-only\n",
            "  This is separate from the ipykernel package so we can avoid doing imports until\n"
          ]
        }
      ]
    },
    {
      "cell_type": "code",
      "source": [
        "duration_features"
      ],
      "metadata": {
        "id": "FSnERmq2_-UE",
        "colab": {
          "base_uri": "https://localhost:8080/"
        },
        "outputId": "8e2c16e9-377f-4339-a196-b63a1133f4e6"
      },
      "execution_count": null,
      "outputs": [
        {
          "output_type": "execute_result",
          "data": {
            "text/plain": [
              "['member_gender',\n",
              " 'car_name',\n",
              " 'zone_name',\n",
              " 'zone_type1',\n",
              " 'zone_type2',\n",
              " 'zone_type3',\n",
              " 'age_category',\n",
              " '\\x08car_category',\n",
              " 'region_ordinal',\n",
              " 'distance',\n",
              " 'duration']"
            ]
          },
          "metadata": {},
          "execution_count": 17
        }
      ]
    },
    {
      "cell_type": "code",
      "source": [
        "# Hyperparameter 조합 정의\n",
        "param_grid = {'max_iter': [100, 200, 300],\n",
        "              'max_depth': [2, 3, 4, 5],\n",
        "              'min_samples_leaf': [1, 20, 100],\n",
        "              'learning_rate': [0.1, 0.01, 0.05]\n",
        "              }"
      ],
      "metadata": {
        "id": "fiCMloReADd1"
      },
      "execution_count": null,
      "outputs": []
    },
    {
      "cell_type": "code",
      "source": [
        "# grid search 모델 정의, 학습 및 model selection\n",
        "grid_search = GridSearchCV(estimator=ensemble.HistGradientBoostingRegressor(),\n",
        "                           param_grid=param_grid,\n",
        "                           cv=3, n_jobs=-1, scoring='neg_mean_squared_error', verbose=2)\n",
        "grid_search.fit(x_train, y_train)\n",
        "print(grid_search.best_params_)\n",
        "reg = ensemble.HistGradientBoostingRegressor(**grid_search.best_params_)"
      ],
      "metadata": {
        "id": "ViKxHu2KADb5",
        "colab": {
          "base_uri": "https://localhost:8080/"
        },
        "outputId": "48e8073f-f4c0-4858-d1c4-48f4ea6a145a"
      },
      "execution_count": null,
      "outputs": [
        {
          "output_type": "stream",
          "name": "stdout",
          "text": [
            "Fitting 3 folds for each of 108 candidates, totalling 324 fits\n",
            "{'learning_rate': 0.1, 'max_depth': 5, 'max_iter': 300, 'min_samples_leaf': 100}\n"
          ]
        }
      ]
    },
    {
      "cell_type": "code",
      "source": [
        "from sklearn.model_selection import PredefinedSplit\n",
        "\n",
        "# train set과 test set의 input과 output를 각각 이어 붙여서 X,y를 정의\n",
        "X = np.concatenate((x_train,x_test), axis=0)\n",
        "y = np.concatenate((y_train,y_test), axis=0)\n"
      ],
      "metadata": {
        "id": "X2Uk6YK9ADZn"
      },
      "execution_count": null,
      "outputs": []
    },
    {
      "cell_type": "code",
      "source": [
        "pds = PredefinedSplit(test_fold=[-1]*len(x_train)+[0]*len(x_test))\n",
        "# grid search 모델 정의, 학습 및 model selection\n",
        "grid_search = GridSearchCV(estimator=ensemble.HistGradientBoostingRegressor(),\n",
        "                           param_grid=param_grid,\n",
        "                           cv=pds, n_jobs=-1, scoring='neg_mean_squared_error', verbose=2)\n",
        "grid_search.fit(X, y)\n",
        "print(grid_search.best_params_)"
      ],
      "metadata": {
        "id": "HG2kPhDRADXV",
        "colab": {
          "base_uri": "https://localhost:8080/"
        },
        "outputId": "25fb38bb-e476-4f1b-d6d5-2d02ce4a8056"
      },
      "execution_count": null,
      "outputs": [
        {
          "output_type": "stream",
          "name": "stdout",
          "text": [
            "Fitting 1 folds for each of 108 candidates, totalling 108 fits\n",
            "{'learning_rate': 0.1, 'max_depth': 2, 'max_iter': 300, 'min_samples_leaf': 1}\n"
          ]
        }
      ]
    },
    {
      "cell_type": "code",
      "source": [
        "reg.fit(x_train, y_train)\n",
        "\n",
        "mse = mean_squared_error(y_test, reg.predict(x_test))\n",
        "print(\"The mean squared error (MSE) on test set: {:.4f}\".format(mse))\n",
        "\n",
        "mae = mean_absolute_error(y_test, reg.predict(x_test))\n",
        "print(\"The mean absolute error (MAE) on test set: {:.4f}\".format(mae))"
      ],
      "metadata": {
        "id": "vUUzuUZCAI5M",
        "colab": {
          "base_uri": "https://localhost:8080/"
        },
        "outputId": "b2939d3f-9b3c-40d9-c492-16caef942e72"
      },
      "execution_count": null,
      "outputs": [
        {
          "output_type": "stream",
          "name": "stdout",
          "text": [
            "The mean squared error (MSE) on test set: 1977194417.2441\n",
            "The mean absolute error (MAE) on test set: 23626.8440\n"
          ]
        }
      ]
    },
    {
      "cell_type": "code",
      "source": [
        "x_train2 = np.asarray(train[['age_category', 'member_gender']]) ## input\n",
        "y_train2 = np.asarray(train['\bcar_category']) ## target\n",
        "x_test2 = np.asarray(test[['age_category', 'member_gender']]) ## input\n",
        "y_test2 = np.asarray(test['\bcar_category']) ## target\n",
        "# duration_features = [x for i,x in enumerate(socar_zone.columns) if i!=0]\n",
        "# grid search 모델 정의, 학습 및 model selection\n",
        "grid_search = GridSearchCV(estimator=ensemble.HistGradientBoostingRegressor(),\n",
        "                           param_grid=param_grid,\n",
        "                           cv=3, n_jobs=-1, scoring='neg_mean_squared_error', verbose=2)\n",
        "grid_search.fit(x_train2, y_train2)\n",
        "print(grid_search.best_params_)\n",
        "reg = ensemble.HistGradientBoostingRegressor(**grid_search.best_params_)\n",
        "# train set과 test set의 input과 output를 각각 이어 붙여서 X,y를 정의\n",
        "X = np.concatenate((x_train2,x_test2), axis=0)\n",
        "y = np.concatenate((y_train2,y_test2), axis=0)\n",
        "pds = PredefinedSplit(test_fold=[-1]*len(x_train2)+[0]*len(x_test2))\n",
        "# grid search 모델 정의, 학습 및 model selection\n",
        "grid_search = GridSearchCV(estimator=ensemble.HistGradientBoostingRegressor(),\n",
        "                           param_grid=param_grid,\n",
        "                           cv=pds, n_jobs=-1, scoring='neg_mean_squared_error', verbose=2)\n",
        "grid_search.fit(X, y)\n",
        "print(grid_search.best_params_)\n",
        "reg.fit(x_train2, y_train2)\n",
        "\n",
        "mse = mean_squared_error(y_test2, reg.predict(x_test2))\n",
        "print(\"The mean squared error (MSE) on test set: {:.4f}\".format(mse))\n",
        "\n",
        "mae = mean_absolute_error(y_test2, reg.predict(x_test2))\n",
        "print(\"The mean absolute error (MAE) on test set: {:.4f}\".format(mae))"
      ],
      "metadata": {
        "colab": {
          "base_uri": "https://localhost:8080/"
        },
        "id": "KEZE9j2MgeFg",
        "outputId": "951b61f6-843c-49d1-e19c-f0b723b2ea8e"
      },
      "execution_count": null,
      "outputs": [
        {
          "output_type": "stream",
          "name": "stdout",
          "text": [
            "Fitting 3 folds for each of 108 candidates, totalling 324 fits\n",
            "{'learning_rate': 0.05, 'max_depth': 5, 'max_iter': 200, 'min_samples_leaf': 1}\n",
            "Fitting 1 folds for each of 108 candidates, totalling 108 fits\n",
            "{'learning_rate': 0.05, 'max_depth': 4, 'max_iter': 200, 'min_samples_leaf': 20}\n",
            "The mean squared error (MSE) on test set: 8.3025\n",
            "The mean absolute error (MAE) on test set: 2.5716\n"
          ]
        }
      ]
    },
    {
      "cell_type": "code",
      "source": [
        "x_train3 = np.asarray(train[['distance', 'duration']]) ## input\n",
        "y_train3 = np.asarray(train['\bcar_category']) ## target\n",
        "x_test3 = np.asarray(test[['distance', 'duration']]) ## input\n",
        "y_test3 = np.asarray(test['\bcar_category']) ## target\n",
        "# duration_features = [x for i,x in enumerate(socar_zone.columns) if i!=0]\n",
        "# grid search 모델 정의, 학습 및 model selection\n",
        "grid_search = GridSearchCV(estimator=ensemble.HistGradientBoostingRegressor(),\n",
        "                           param_grid=param_grid,\n",
        "                           cv=3, n_jobs=-1, scoring='neg_mean_squared_error', verbose=2)\n",
        "grid_search.fit(x_train3, y_train3)\n",
        "print(grid_search.best_params_)\n",
        "reg = ensemble.HistGradientBoostingRegressor(**grid_search.best_params_)\n",
        "# train set과 test set의 input과 output를 각각 이어 붙여서 X,y를 정의\n",
        "X = np.concatenate((x_train3,x_test3), axis=0)\n",
        "y = np.concatenate((y_train3,y_test3), axis=0)\n",
        "pds = PredefinedSplit(test_fold=[-1]*len(x_train3)+[0]*len(x_test3))\n",
        "# grid search 모델 정의, 학습 및 model selection\n",
        "grid_search = GridSearchCV(estimator=ensemble.HistGradientBoostingRegressor(),\n",
        "                           param_grid=param_grid,\n",
        "                           cv=pds, n_jobs=-1, scoring='neg_mean_squared_error', verbose=2)\n",
        "grid_search.fit(X, y)\n",
        "print(grid_search.best_params_)\n",
        "reg.fit(x_train3, y_train3)\n",
        "\n",
        "mse = mean_squared_error(y_test3, reg.predict(x_test3))\n",
        "print(\"The mean squared error (MSE) on test set: {:.4f}\".format(mse))\n",
        "\n",
        "mae = mean_absolute_error(y_test3, reg.predict(x_test3))\n",
        "print(\"The mean absolute error (MAE) on test set: {:.4f}\".format(mae))"
      ],
      "metadata": {
        "colab": {
          "base_uri": "https://localhost:8080/"
        },
        "id": "L4C548ILroNJ",
        "outputId": "70134af3-32d2-46cc-8b4c-7226df4fddec"
      },
      "execution_count": null,
      "outputs": [
        {
          "output_type": "stream",
          "name": "stdout",
          "text": [
            "Fitting 3 folds for each of 108 candidates, totalling 324 fits\n",
            "{'learning_rate': 0.1, 'max_depth': 3, 'max_iter': 300, 'min_samples_leaf': 100}\n",
            "Fitting 1 folds for each of 108 candidates, totalling 108 fits\n",
            "{'learning_rate': 0.1, 'max_depth': 5, 'max_iter': 300, 'min_samples_leaf': 1}\n",
            "The mean squared error (MSE) on test set: 8.3389\n",
            "The mean absolute error (MAE) on test set: 2.5844\n"
          ]
        }
      ]
    },
    {
      "cell_type": "code",
      "source": [
        "x_train4 = np.asarray(train[['member_gender','\bcar_category', 'duration','distance']]) ## input\n",
        "y_train4 = np.asarray(train['age_category']) ## target\n",
        "x_test4 = np.asarray(test[['member_gender','\bcar_category', 'duration','distance']]) ## input\n",
        "y_test4 = np.asarray(test['age_category']) ## target\n",
        "# duration_features = [x for i,x in enumerate(socar_zone.columns) if i!=0]\n",
        "# grid search 모델 정의, 학습 및 model selection\n",
        "grid_search = GridSearchCV(estimator=ensemble.HistGradientBoostingRegressor(),\n",
        "                           param_grid=param_grid,\n",
        "                           cv=3, n_jobs=-1, scoring='neg_mean_squared_error', verbose=2)\n",
        "grid_search.fit(x_train4, y_train4)\n",
        "print(grid_search.best_params_)\n",
        "reg = ensemble.HistGradientBoostingRegressor(**grid_search.best_params_)\n",
        "# train set과 test set의 input과 output를 각각 이어 붙여서 X,y를 정의\n",
        "X = np.concatenate((x_train4,x_test4), axis=0)\n",
        "y = np.concatenate((y_train4,y_test4), axis=0)\n",
        "pds = PredefinedSplit(test_fold=[-1]*len(x_train4)+[0]*len(x_test4))\n",
        "# grid search 모델 정의, 학습 및 model selection\n",
        "grid_search = GridSearchCV(estimator=ensemble.HistGradientBoostingRegressor(),\n",
        "                           param_grid=param_grid,\n",
        "                           cv=pds, n_jobs=-1, scoring='neg_mean_squared_error', verbose=2)\n",
        "grid_search.fit(X, y)\n",
        "print(grid_search.best_params_)\n",
        "reg.fit(x_train4, y_train4)\n",
        "\n",
        "mse = mean_squared_error(y_test4, reg.predict(x_test4))\n",
        "print(\"The mean squared error (MSE) on test set: {:.4f}\".format(mse))\n",
        "\n",
        "mae = mean_absolute_error(y_test4, reg.predict(x_test4))\n",
        "print(\"The mean absolute error (MAE) on test set: {:.4f}\".format(mae))"
      ],
      "metadata": {
        "colab": {
          "base_uri": "https://localhost:8080/"
        },
        "id": "vO915azBsOW8",
        "outputId": "f5257b2a-c2af-4753-85ef-85b68446b29f"
      },
      "execution_count": null,
      "outputs": [
        {
          "output_type": "stream",
          "name": "stdout",
          "text": [
            "Fitting 3 folds for each of 108 candidates, totalling 324 fits\n",
            "{'learning_rate': 0.1, 'max_depth': 5, 'max_iter': 300, 'min_samples_leaf': 20}\n",
            "Fitting 1 folds for each of 108 candidates, totalling 108 fits\n",
            "{'learning_rate': 0.1, 'max_depth': 5, 'max_iter': 300, 'min_samples_leaf': 20}\n",
            "The mean squared error (MSE) on test set: 70.4240\n",
            "The mean absolute error (MAE) on test set: 6.8549\n"
          ]
        }
      ]
    },
    {
      "cell_type": "code",
      "source": [
        "x_train5 = np.asarray(train[['member_gender','age_category', 'duration','distance']]) ## input\n",
        "y_train5 = np.asarray(train['\bcar_category']) ## target\n",
        "x_test5 = np.asarray(test[['member_gender','age_category', 'duration','distance']]) ## input\n",
        "y_test5 = np.asarray(test['\bcar_category']) ## target\n",
        "# duration_features = [x for i,x in enumerate(socar_zone.columns) if i!=0]\n",
        "# grid search 모델 정의, 학습 및 model selection\n",
        "grid_search = GridSearchCV(estimator=ensemble.HistGradientBoostingRegressor(),\n",
        "                           param_grid=param_grid,\n",
        "                           cv=3, n_jobs=-1, scoring='neg_mean_squared_error', verbose=2)\n",
        "grid_search.fit(x_train5, y_train5)\n",
        "print(grid_search.best_params_)\n",
        "reg = ensemble.HistGradientBoostingRegressor(**grid_search.best_params_)\n",
        "# train set과 test set의 input과 output를 각각 이어 붙여서 X,y를 정의\n",
        "X = np.concatenate((x_train5,x_test5), axis=0)\n",
        "y = np.concatenate((y_train5,y_test5), axis=0)\n",
        "pds = PredefinedSplit(test_fold=[-1]*len(x_train5)+[0]*len(x_test5))\n",
        "# grid search 모델 정의, 학습 및 model selection\n",
        "grid_search = GridSearchCV(estimator=ensemble.HistGradientBoostingRegressor(),\n",
        "                           param_grid=param_grid,\n",
        "                           cv=pds, n_jobs=-1, scoring='neg_mean_squared_error', verbose=2)\n",
        "grid_search.fit(X, y)\n",
        "print(grid_search.best_params_)\n",
        "reg.fit(x_train5, y_train5)\n",
        "\n",
        "mse = mean_squared_error(y_test5, reg.predict(x_test5))\n",
        "print(\"The mean squared error (MSE) on test set: {:.4f}\".format(mse))\n",
        "\n",
        "mae = mean_absolute_error(y_test5, reg.predict(x_test5))\n",
        "print(\"The mean absolute error (MAE) on test set: {:.4f}\".format(mae))"
      ],
      "metadata": {
        "colab": {
          "base_uri": "https://localhost:8080/"
        },
        "id": "QAbWpaVICbZy",
        "outputId": "cb8ce28d-70c0-4808-c633-b2f09ccdb099"
      },
      "execution_count": null,
      "outputs": [
        {
          "output_type": "stream",
          "name": "stdout",
          "text": [
            "Fitting 3 folds for each of 108 candidates, totalling 324 fits\n",
            "{'learning_rate': 0.05, 'max_depth': 4, 'max_iter': 300, 'min_samples_leaf': 20}\n",
            "Fitting 1 folds for each of 108 candidates, totalling 108 fits\n",
            "{'learning_rate': 0.1, 'max_depth': 5, 'max_iter': 200, 'min_samples_leaf': 20}\n",
            "The mean squared error (MSE) on test set: 8.2544\n",
            "The mean absolute error (MAE) on test set: 2.5627\n"
          ]
        }
      ]
    },
    {
      "cell_type": "markdown",
      "source": [
        "1. train4,5 비교시 차종에 따른 성별, 연령대, 빌린기간, (이동)거리에 더 상관관계가 있음을 알 수 있다.\n",
        "따라서 쿠폰을 발급할 때 유저의 성별, 연령대, 빌린기간, 거리를 기준으로 차종을 할인해주는 쿠폰을 발급해주는 방식이 효율적으로 쿠폰사용을 유도할 수 있을 것 같다.\n",
        "\n",
        "2. 더 자세히 나눠서 유저의 성별과 연령대 or 렌트 기간과 이동거리에 따른 차종예측을 실행하였고, 렌트기간과 이동거리보다 이용자의 성별과 연령대가 유저가 어떤 차를 사용할지 예측하는데 더 적은 에러가 났다\n",
        "\n",
        "(2번은 잘 모르겠어요. train5보다 에러가 조금 높아서 더 자세히 나누는게 필요없나 싶습니다.)\n"
      ],
      "metadata": {
        "id": "6wf5cBP1vF_H"
      }
    }
  ],
  "metadata": {
    "colab": {
      "provenance": []
    },
    "gpuClass": "standard",
    "kernelspec": {
      "display_name": "Python 3",
      "name": "python3"
    },
    "language_info": {
      "name": "python"
    }
  },
  "nbformat": 4,
  "nbformat_minor": 0
}